{
 "cells": [
  {
   "cell_type": "code",
   "execution_count": 5,
   "metadata": {},
   "outputs": [
    {
     "name": "stdout",
     "output_type": "stream",
     "text": [
      "(2, 97)\n",
      "[[-3.84583012  1.18801555]]\n"
     ]
    },
    {
     "data": {
      "text/plain": [
       "[<matplotlib.lines.Line2D at 0x7f856ec0b5f8>]"
      ]
     },
     "execution_count": 5,
     "metadata": {},
     "output_type": "execute_result"
    },
    {
     "data": {
      "image/png": "[encoded data removed]",
      "text/plain": [
       "<matplotlib.figure.Figure at 0x7f856eddb828>"
      ]
     },
     "metadata": {},
     "output_type": "display_data"
    }
   ],
   "source": [
    "import numpy as np\n",
    "import math\n",
    "import matplotlib.pyplot as plt\n",
    "\n",
    "A = np.loadtxt(\"ex1data1.txt\", delimiter=\",\")\n",
    "\n",
    "X = A[:,0]\n",
    "Y = A[:,1]\n",
    "\n",
    "X = np.array([X])\n",
    "Y = np.array([Y])\n",
    "\n",
    "#X = np.array([[0,1,2,3,4,5]])\n",
    "#Y = np.array([[0,1,2,3,4,5]])\n",
    "#print(len(X))\n",
    "#print(len(X[1]))\n",
    "#print(X.shape)\n",
    "#print(X[1].transpose())\n",
    "#print(X[0].shape)\n",
    "#print(X[2].shape)\n",
    "\n",
    "#print(Y[0])\n",
    "#print(Y.shape)\n",
    "\n",
    "#print(X[1])\n",
    "\n",
    "#plt.scatter(X,Y)\n",
    "#theta0 = \n",
    "#theta = np.array([[0.0,0.0]])\n",
    "theta = np.zeros(1+len(X))\n",
    "theta = np.array([theta])\n",
    "#theta = theta.transpose()\n",
    "#print(theta[0][1])\n",
    "#print(theta)\n",
    "#print(theta.shape)\n",
    "\n",
    "#Xo = np.array([1,2,4,3,5])\n",
    "Xo = X[0]\n",
    "#Yo = np.array([1,3,3,2,5])\n",
    "Yo = Y[0]\n",
    "\n",
    "plt.scatter(Xo,Yo)\n",
    "\n",
    "Xb = np.ones(len(X[0]),int)\n",
    "#print(A)\n",
    "\n",
    "#print(len)\n",
    "\n",
    "iterations = 2500\n",
    "alpha = 0.0001\n",
    "\n",
    "#X_bias = np.ones((len(X[0])), dtype = 'int')\n",
    "#print(X_bias)\n",
    "#X_bias = np.array(X_bias)\n",
    "#X = np.reshape(X, (len(X[0]),1))\n",
    "#X = np.append(X_bias,X,axis=0)\n",
    "#X = np.array([[]])\n",
    "X = np.empty((0,len(Xo)))\n",
    "#print(X)\n",
    "#print(X.shape)\n",
    "\n",
    "X = np.append(X, np.array([Xb]), axis=0)\n",
    "X = np.append(X, np.array([Xo]), axis=0)\n",
    "#print(X)\n",
    "#print(X.shape)\n",
    "#print((X[:,0]).shape)\n",
    "\n",
    "#def costfunction(X,Y,theta):\n",
    "    \n",
    "#    J = ((1/(2*len(Y)))*sum((((np.dot(X,theta)) - Y)**2)))\n",
    "    #print(J)\n",
    "    \n",
    "#theta = theta.transpose()\n",
    "#print(theta)\n",
    "#X = np.array(X)\n",
    "#print(X)\n",
    "#print(Y)\n",
    "#X = X.transpose()\n",
    "\n",
    "#print(X.shape)\n",
    "#print(Y.shape)\n",
    "#print(theta.shape)\n",
    "\n",
    "#print((np.dot(theta,X)).shape)\n",
    "\n",
    "#print(np.dot(((np.dot(theta,X)) - Y),Xn1)[0])\n",
    "#print(X[0].shape)\n",
    "\n",
    "#X[0] = np.array([X[0]])\n",
    "#print(X[0].shape)\n",
    "\n",
    "#X[:,0] = X[:,0].transpose()\n",
    "#X[:,1] = X[:,1].transpose()\n",
    "\n",
    "#print(X[:,0].shape)\n",
    "\n",
    "Xn0 = np.array([X[0]])\n",
    "Xn1 = np.array([X[1]])\n",
    "#print(Xn0.shape)\n",
    "Xn0 = Xn0.transpose()\n",
    "#print(Xn0.shape)\n",
    "Xn1 = Xn1.transpose()\n",
    "#print(X[0])\n",
    "#n = 0\n",
    "#print(theta.shape)\n",
    "print(X.shape)\n",
    "def gradientdescent(X,Y,iterations,alpha,theta,Xn0,Xn1):\n",
    "    \n",
    "    #for i in range(0,iterations):\n",
    "    n = 0\n",
    "    while(n <= iterations):\n",
    "        \n",
    "        temp0 = (theta[0][0] - (alpha*(1/len(Y))*((np.dot(((np.dot(theta,X)) - Y),Xn0))[0][0])))\n",
    "        temp1 = (theta[0][1] - (alpha*(1/len(Y))*((np.dot(((np.dot(theta,X)) - Y),Xn1))[0][0])))\n",
    "        theta[0][0] = temp0\n",
    "        theta[0][1] = temp1\n",
    "        #print(theta[0][0])\n",
    "        #print(temp0)\n",
    "        \n",
    "        n = n + 1\n",
    "        #print(theta)\n",
    "        \n",
    "        #print(sum(((np.dot(X,theta)) - Y)*X[:,0]))\n",
    "        \n",
    "        #costfunction(X,Y,theta)\n",
    "        \n",
    "    return theta\n",
    "\n",
    "theta = gradientdescent(X,Y,iterations,alpha,theta,Xn0,Xn1)\n",
    "print(theta)\n",
    "\n",
    "y = theta[0][0] + (Xo*theta[0][1])\n",
    "\n",
    "\n",
    "plt.plot(Xo,y,'r')\n",
    "\n",
    "    \n",
    "    "
   ]
  },
  {
   "cell_type": "code",
   "execution_count": 170,
   "metadata": {},
   "outputs": [
    {
     "name": "stdout",
     "output_type": "stream",
     "text": [
      "[[1. 2. 3.]]\n"
     ]
    }
   ],
   "source": [
    "#X = [[1,2,3]]\n",
    "\n",
    "X = np.array([[1,2,3]],dtype = 'float')\n",
    "print(X)"
   ]
  },
  {
   "cell_type": "code",
   "execution_count": null,
   "metadata": {},
   "outputs": [],
   "source": []
  }
 ],
 "metadata": {
  "kernelspec": {
   "display_name": "Python 3",
   "language": "python",
   "name": "python3"
  },
  "language_info": {
   "codemirror_mode": {
    "name": "ipython",
    "version": 3
   },
   "file_extension": ".py",
   "mimetype": "text/x-python",
   "name": "python",
   "nbconvert_exporter": "python",
   "pygments_lexer": "ipython3",
   "version": "3.6.9"
  }
 },
 "nbformat": 4,
 "nbformat_minor": 2
}
