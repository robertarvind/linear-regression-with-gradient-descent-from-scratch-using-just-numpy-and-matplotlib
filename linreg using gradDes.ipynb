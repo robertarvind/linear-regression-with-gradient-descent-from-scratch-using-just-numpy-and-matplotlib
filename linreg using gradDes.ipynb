{
 "cells": [
  {
   "cell_type": "code",
   "execution_count": 2,
   "metadata": {},
   "outputs": [
    {
     "name": "stdout",
     "output_type": "stream",
     "text": [
      "[[0.00308644 0.99913021]]\n"
     ]
    },
    {
     "data": {
      "text/plain": [
       "[<matplotlib.lines.Line2D at 0x7f1e05f6ff28>]"
      ]
     },
     "execution_count": 2,
     "metadata": {},
     "output_type": "execute_result"
    },
    {
     "data": {
      "image/png": "[encoded data removed]",
      "text/plain": [
       "<matplotlib.figure.Figure at 0x7f1dd7f7f8d0>"
      ]
     },
     "metadata": {},
     "output_type": "display_data"
    }
   ],
   "source": [
    "import numpy as np\n",
    "import matplotlib.pyplot as plt\n",
    "\n",
    "X = np.array([[0,1,2,3,4,5]])\n",
    "Y = np.array([[0,1,2,3,4,5]])\n",
    "theta = np.zeros(1+len(X))\n",
    "theta = np.array([theta])\n",
    "Xo = X[0]\n",
    "Yo = Y[0]\n",
    "plt.scatter(Xo,Yo)\n",
    "Xb = np.ones(len(X[0]),int)\n",
    "iterations = 2500\n",
    "alpha = 0.001\n",
    "X = np.empty((0,len(Xo)))\n",
    "X = np.append(X, np.array([Xb]), axis=0)\n",
    "X = np.append(X, np.array([Xo]), axis=0)\n",
    "Xn0 = np.array([X[0]])\n",
    "Xn1 = np.array([X[1]])\n",
    "Xn0 = Xn0.transpose()\n",
    "Xn1 = Xn1.transpose()\n",
    "def gradientdescent(X,Y,iterations,alpha,theta):\n",
    "    \n",
    "    n = 0\n",
    "    while(n <= iterations):\n",
    "        \n",
    "        temp0 = (theta[0][0] - (alpha*(1/len(Y))*((np.dot(((np.dot(theta,X)) - Y),Xn0))[0][0])))\n",
    "        temp1 = (theta[0][1] - (alpha*(1/len(Y))*((np.dot(((np.dot(theta,X)) - Y),Xn1))[0][0])))\n",
    "        theta[0][0] = temp0\n",
    "        theta[0][1] = temp1\n",
    "        \n",
    "        n = n + 1\n",
    "        \n",
    "    return theta\n",
    "\n",
    "theta = gradientdescent(X,Y,iterations,alpha,theta)\n",
    "print(theta)\n",
    "y = theta[0][0] + (Xo*theta[0][1])\n",
    "plt.plot(Xo,y,'r')\n"
   ]
  },
  {
   "cell_type": "code",
   "execution_count": null,
   "metadata": {},
   "outputs": [],
   "source": []
  },
  {
   "cell_type": "code",
   "execution_count": null,
   "metadata": {},
   "outputs": [],
   "source": []
  }
 ],
 "metadata": {
  "kernelspec": {
   "display_name": "Python 3",
   "language": "python",
   "name": "python3"
  },
  "language_info": {
   "codemirror_mode": {
    "name": "ipython",
    "version": 3
   },
   "file_extension": ".py",
   "mimetype": "text/x-python",
   "name": "python",
   "nbconvert_exporter": "python",
   "pygments_lexer": "ipython3",
   "version": "3.6.9"
  }
 },
 "nbformat": 4,
 "nbformat_minor": 2
}
